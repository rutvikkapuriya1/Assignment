{
 "cells": [
  {
   "cell_type": "code",
   "execution_count": 4,
   "id": "4ef3f78a",
   "metadata": {},
   "outputs": [
    {
     "name": "stderr",
     "output_type": "stream",
     "text": [
      "C:\\Users\\rutvi\\AppData\\Roaming\\Python\\Python311\\site-packages\\sklearn\\cluster\\_kmeans.py:870: FutureWarning: The default value of `n_init` will change from 10 to 'auto' in 1.4. Set the value of `n_init` explicitly to suppress the warning\n",
      "  warnings.warn(\n",
      "C:\\Users\\rutvi\\AppData\\Roaming\\Python\\Python311\\site-packages\\sklearn\\base.py:439: UserWarning: X does not have valid feature names, but KMeans was fitted with feature names\n",
      "  warnings.warn(\n"
     ]
    }
   ],
   "source": [
    "import streamlit as st\n",
    "import numpy as np\n",
    "from sklearn.cluster import KMeans\n",
    "import pandas as pd\n",
    "\n",
    "def predict_cluster(example_data_point):\n",
    "    df = pd.read_excel(r'C:\\Users\\rutvi\\Downloads\\train.xlsx')\n",
    "    x = df.iloc[:, :-1]  \n",
    "    kmeans = KMeans(n_clusters=10)\n",
    "    kmeans.fit(x)\n",
    "    # Predict the cluster for the example data point\n",
    "    predicted_cluster = kmeans.predict([example_data_point])\n",
    "    return predicted_cluster[0]\n",
    "\n",
    "def streamlit_app():\n",
    "    st.title('Clustering Prediction App')\n",
    "    \n",
    "    # User input for the example data point\n",
    "    st.subheader('Enter feature values for the example data point:')\n",
    "    feature_values = []\n",
    "    for i in range(18):\n",
    "        feature_value = st.number_input(f'Feature T{i+1}:', step=1)\n",
    "        feature_values.append(feature_value)\n",
    "    \n",
    "    # Predict the cluster\n",
    "    example_data_point = np.array(feature_values)\n",
    "    predicted_cluster = predict_cluster(example_data_point)\n",
    "    \n",
    "    # Display the predicted cluster number\n",
    "    st.subheader('Predicted Cluster:')\n",
    "    st.write(predicted_cluster)\n",
    "\n",
    "# Run the Streamlit app\n",
    "if __name__ == '__main__':\n",
    "    streamlit_app()\n"
   ]
  },
  {
   "cell_type": "code",
   "execution_count": null,
   "id": "e15c31ed",
   "metadata": {},
   "outputs": [],
   "source": []
  }
 ],
 "metadata": {
  "kernelspec": {
   "display_name": "Python 3 (ipykernel)",
   "language": "python",
   "name": "python3"
  },
  "language_info": {
   "codemirror_mode": {
    "name": "ipython",
    "version": 3
   },
   "file_extension": ".py",
   "mimetype": "text/x-python",
   "name": "python",
   "nbconvert_exporter": "python",
   "pygments_lexer": "ipython3",
   "version": "3.11.5"
  }
 },
 "nbformat": 4,
 "nbformat_minor": 5
}
